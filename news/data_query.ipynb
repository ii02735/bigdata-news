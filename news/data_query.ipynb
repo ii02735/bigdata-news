{
 "cells": [
  {
   "cell_type": "code",
   "execution_count": 1,
   "metadata": {},
   "outputs": [
    {
     "name": "stdout",
     "output_type": "stream",
     "text": [
      "Requirement already satisfied: python-dotenv in /opt/conda/lib/python3.8/site-packages (0.15.0)\n",
      "Note: you may need to restart the kernel to use updated packages.\n"
     ]
    }
   ],
   "source": [
    "pip install python-dotenv"
   ]
  },
  {
   "cell_type": "code",
   "execution_count": 2,
   "metadata": {},
   "outputs": [
    {
     "data": {
      "text/plain": [
       "True"
      ]
     },
     "execution_count": 2,
     "metadata": {},
     "output_type": "execute_result"
    }
   ],
   "source": [
    "import os\n",
    "from dotenv import load_dotenv\n",
    "\n",
    "load_dotenv()"
   ]
  },
  {
   "cell_type": "markdown",
   "metadata": {},
   "source": [
    "# Connexion à la base de données Mongo "
   ]
  },
  {
   "cell_type": "code",
   "execution_count": 7,
   "metadata": {},
   "outputs": [],
   "source": [
    "from pyspark.sql import SparkSession\n",
    "\n",
    "spark = (SparkSession\n",
    "    .builder\n",
    "    .appName(\"myApp2\") \n",
    "    .config(\"spark.mongodb.input.uri\", os.getenv('MONGO_URL')) \n",
    "    .config(\"spark.mongodb.input.collection\", 'data')  \n",
    "    .config(\"spark.jars.packages\",\"org.mongodb.spark:mongo-spark-connector_2.12:3.0.1\")\n",
    "    .getOrCreate())"
   ]
  },
  {
   "cell_type": "code",
   "execution_count": 8,
   "metadata": {},
   "outputs": [],
   "source": [
    "df = spark.read.format(\"mongo\").load()"
   ]
  },
  {
   "cell_type": "markdown",
   "metadata": {},
   "source": [
    "## Nombre total de derniers articles"
   ]
  },
  {
   "cell_type": "code",
   "execution_count": 5,
   "metadata": {},
   "outputs": [
    {
     "data": {
      "text/plain": [
       "270"
      ]
     },
     "execution_count": 5,
     "metadata": {},
     "output_type": "execute_result"
    }
   ],
   "source": [
    "df.count()"
   ]
  },
  {
   "cell_type": "markdown",
   "metadata": {},
   "source": [
    "## Les 10 derniers articles"
   ]
  },
  {
   "cell_type": "code",
   "execution_count": null,
   "metadata": {},
   "outputs": [],
   "source": [
    "latest_articles = df.take(10)\n",
    "latest_articles"
   ]
  },
  {
   "cell_type": "markdown",
   "metadata": {},
   "source": [
    "## Les auteurs avec leurs catégories"
   ]
  },
  {
   "cell_type": "code",
   "execution_count": 9,
   "metadata": {},
   "outputs": [
    {
     "data": {
      "text/plain": [
       "[Row(author='Valarie Honeycutt Spears', category=['kentucky']),\n",
       " Row(author='[{\"@type\":\"Person\",\"name\":\"Kit Stone\",\"url\":\"https://www.buzzfeed.com/bykitstone\",\"jobTitle\":\"BuzzFeed Staff\"}]', category=['lifestyle']),\n",
       " Row(author='Dustin Jones', category=['health', 'lifestyle']),\n",
       " Row(author='Katie Rice', category=['general']),\n",
       " Row(author='goodhousekeeping', category=['lifestyle']),\n",
       " Row(author='[{\"@type\":\"Person\",\"name\":\"waltersava\",\"url\":\"https://www.buzzfeed.com/waltersava\",\"jobTitle\":\"Community Contributor\"}]', category=['lifestyle']),\n",
       " Row(author='Claudia Grisales', category=['politics', 'world']),\n",
       " Row(author='Globe Newswire', category=['finance']),\n",
       " Row(author='Matthew Hallett', category=['regional', 'oklahoma']),\n",
       " Row(author='@NatGeoUK', category=['regional']),\n",
       " Row(author='Ben Hsu', category=['regional']),\n",
       " Row(author='digitaljournal', category=['general']),\n",
       " Row(author='@BrianCoz', category=['general']),\n",
       " Row(author='associated-press', category=['media', 'lifestyle']),\n",
       " Row(author='Matt Trotter', category=['regional', 'oklahoma']),\n",
       " Row(author='Kenneth C. Crowe II', category=['regional', 'albany', 'new-york']),\n",
       " Row(author='FOX13 Memphis News Staff', category=['regional', 'nashville', 'tennessee']),\n",
       " Row(author='Bloomberg', category=['business', 'economy']),\n",
       " Row(author='Chantel Delulio', category=['regional']),\n",
       " Row(author='Ana Diaz', category=['regional']),\n",
       " Row(author='ngartrell@bayareanewsgroup.com', category=['regional']),\n",
       " Row(author='Patrick Conn', category=['regional', 'oklahoma']),\n",
       " Row(author='Jason Aycock, SA News Editor', category=['regional']),\n",
       " Row(author='Anna Rose', category=['music', 'film']),\n",
       " Row(author='@news8news', category=['regional', 'oklahoma']),\n",
       " Row(author='Meg Adonis', category=['metro', 'society']),\n",
       " Row(author='@ingridlunden', category=['general']),\n",
       " Row(author='Kelsey McCarson', category=['regional']),\n",
       " Row(author='@CTVNews', category=['general']),\n",
       " Row(author='google', category=['regional']),\n",
       " Row(author='Riley Jones', category=['regional']),\n",
       " Row(author='Anchorage Daily News', category=['regional', 'oklahoma']),\n",
       " Row(author='', category=['general']),\n",
       " Row(author='ABC News', category=['sports']),\n",
       " Row(author='Megan Johnson', category=['finance']),\n",
       " Row(author='David Rodeck', category=['finance']),\n",
       " Row(author='Dillon Richards', category=['regional', 'oklahoma']),\n",
       " Row(author='associated-press', category=['lifestyle']),\n",
       " Row(author='Jacklyn Chappell', category=['regional', 'oklahoma']),\n",
       " Row(author='Jennifer Ouellette', category=['technology']),\n",
       " Row(author='@nypostsports', category=['general']),\n",
       " Row(author='Doyle Rice, USA TODAY', category=['regional']),\n",
       " Row(author='Natasha Mascarenhas', category=['general']),\n",
       " Row(author='Josh Taylor', category=['technology']),\n",
       " Row(author='Gabriel Kinder', category=['general']),\n",
       " Row(author='Morgan Eads', category=['kentucky']),\n",
       " Row(author='cnn', category=['general']),\n",
       " Row(author='Josh Moore', category=['kentucky']),\n",
       " Row(author='Billy House, Emily Wilkins', category=['regional', 'oklahoma']),\n",
       " Row(author='Larry Rulison', category=['regional', 'albany', 'new-york']),\n",
       " Row(author='@anthonyha', category=['general']),\n",
       " Row(author='Ramishah Maruf, CNN Business', category=['finance']),\n",
       " Row(author='Jordan Zakarin', category=['regional']),\n",
       " Row(author='techmeme', category=['technology']),\n",
       " Row(author='phoronix', category=['technology', 'programming']),\n",
       " Row(author='[{\"@type\":\"Person\",\"name\":\"catrina2005\",\"url\":\"https://www.buzzfeed.com/catrina2005\",\"jobTitle\":\"Community Contributor\"}]', category=['lifestyle']),\n",
       " Row(author='Chris Trevino', category=['regional', 'oklahoma']),\n",
       " Row(author='Matthew Lenix', category=['regional', 'oklahoma']),\n",
       " Row(author='Carol Robinson | crobinson@al.com', category=['regional', 'nashville', 'tennessee']),\n",
       " Row(author='@bheater', category=['general']),\n",
       " Row(author='Jared Peck', category=['kentucky']),\n",
       " Row(author='Bubalo, Branko', category=['academic', 'ECON']),\n",
       " Row(author='VOA Learning English', category=['world']),\n",
       " Row(author='Rick Karlin', category=['regional', 'albany', 'new-york']),\n",
       " Row(author='straitstimes', category=['world']),\n",
       " Row(author='[{\"@type\":\"Person\",\"name\":\"Morgan Sloss\",\"url\":\"https://www.buzzfeed.com/morgansloss1\",\"jobTitle\":\"BuzzFeed Staff\"}]', category=['lifestyle']),\n",
       " Row(author='Catherine Sweeney', category=['regional', 'oklahoma']),\n",
       " Row(author='ABC News', category=['regional', 'oklahoma']),\n",
       " Row(author='Mark Singelais', category=['regional', 'albany', 'new-york']),\n",
       " Row(author='Swapnil Dhruv Bose', category=['regional']),\n",
       " Row(author='@NYPost_Schwartz', category=['general']),\n",
       " Row(author='@http://twitter.com/JoeBuettner', category=['regional', 'oklahoma']),\n",
       " Row(author='@nypost', category=['general']),\n",
       " Row(author='Dan Caplinger', category=['finance']),\n",
       " Row(author='Catherine Garcia', category=['general']),\n",
       " Row(author='@usnavy', category=['regional']),\n",
       " Row(author='Henry, Marc', category=['academic', 'ECON']),\n",
       " Row(author='Ferman, Bruno', category=['academic', 'ECON']),\n",
       " Row(author='[{\"@type\":\"Person\",\"name\":\"Spencer Althouse\",\"url\":\"https://www.buzzfeed.com/spenceralthouse\",\"jobTitle\":\"BuzzFeed Staff\"}]', category=['lifestyle']),\n",
       " Row(author='@dannycrichton', category=['general']),\n",
       " Row(author='The Phoblographer', category=['regional']),\n",
       " Row(author='Connor Mannion', category=['general']),\n",
       " Row(author='Salanié, Bernard', category=['academic', 'ECON']),\n",
       " Row(author='Jeff Bailey', category=['general']),\n",
       " Row(author='Motley Fool Transcribers', category=['regional']),\n",
       " Row(author='Brooke Wolford', category=['kentucky']),\n",
       " Row(author='CNA', category=['sports']),\n",
       " Row(author='', category=['regional']),\n",
       " Row(author='Jonathan Shieber', category=['general']),\n",
       " Row(author='Jan Wolfe', category=['regional']),\n",
       " Row(author='Julie Iannuzzi', category=['regional']),\n",
       " Row(author='voanews', category=['world']),\n",
       " Row(author='WRAL', category=['regional', 'nashville', 'tennessee']),\n",
       " Row(author='flipboard', category=['finance']),\n",
       " Row(author='TipRanks', category=['finance']),\n",
       " Row(author='Business staff', category=['regional', 'albany', 'new-york']),\n",
       " Row(author='Paul Nelson', category=['regional', 'albany', 'new-york']),\n",
       " Row(author='SeekingAlpha.com', category=['business', 'finance']),\n",
       " Row(author='@tayhatmaker', category=['general']),\n",
       " Row(author='CBS News', category=['general']),\n",
       " Row(author='Reuters', category=['finance']),\n",
       " Row(author='Herb Terns', category=['regional', 'albany', 'new-york']),\n",
       " Row(author='Amanda Fries', category=['regional', 'albany', 'new-york']),\n",
       " Row(author='Ryan Aber', category=['regional', 'oklahoma']),\n",
       " Row(author='Mary Ann Azevedo', category=['general']),\n",
       " Row(author='@chelseahirsch', category=['general']),\n",
       " Row(author='@techcrunch', category=['general']),\n",
       " Row(author='Galichon, Alfred', category=['academic', 'ECON']),\n",
       " Row(author='Pete Dougherty', category=['regional', 'albany', 'new-york']),\n",
       " Row(author='[{\"@type\":\"Person\",\"name\":\"Joyann Jeffrey\",\"url\":\"https://www.buzzfeed.com/joyannjeffrey\",\"jobTitle\":\"BuzzFeed Staff\"}]', category=['lifestyle'])]"
      ]
     },
     "execution_count": 9,
     "metadata": {},
     "output_type": "execute_result"
    }
   ],
   "source": [
    "spark.catalog.dropTempView(\"article_table\")\n",
    "df.createTempView(\"article_table\")\n",
    "spark.sql(\"SELECT DISTINCT(author), category FROM article_table\").collect()"
   ]
  },
  {
   "cell_type": "markdown",
   "metadata": {},
   "source": [
    "## Les articles par auteur"
   ]
  },
  {
   "cell_type": "code",
   "execution_count": null,
   "metadata": {},
   "outputs": [],
   "source": [
    "spark.catalog.dropTempView(\"article_table\")\n",
    "df.createTempView(\"article_table\")\n",
    "spark.sql(\"SELECT author, title, description FROM article_table GROUP BY author, title, description\").collect()"
   ]
  },
  {
   "cell_type": "code",
   "execution_count": null,
   "metadata": {},
   "outputs": [],
   "source": [
    "spark.catalog.dropTempView(\"article_table\")\n",
    "df.createTempView(\"article_table\")\n",
    "spark.sql(\"SELECT author,COUNT(*) as articles FROM article_table GROUP BY author\").show()"
   ]
  },
  {
   "cell_type": "markdown",
   "metadata": {},
   "source": [
    "## Les articles publiés le jour d’un événement particulier"
   ]
  },
  {
   "cell_type": "code",
   "execution_count": null,
   "metadata": {},
   "outputs": [],
   "source": [
    "df.filter(df.published == '2021-02-03 21:57:22 +0000').collect()"
   ]
  },
  {
   "cell_type": "code",
   "execution_count": null,
   "metadata": {},
   "outputs": [],
   "source": []
  }
 ],
 "metadata": {
  "kernelspec": {
   "display_name": "Python 3",
   "language": "python",
   "name": "python3"
  },
  "language_info": {
   "codemirror_mode": {
    "name": "ipython",
    "version": 3
   },
   "file_extension": ".py",
   "mimetype": "text/x-python",
   "name": "python",
   "nbconvert_exporter": "python",
   "pygments_lexer": "ipython3",
   "version": "3.8.6"
  }
 },
 "nbformat": 4,
 "nbformat_minor": 2
}
